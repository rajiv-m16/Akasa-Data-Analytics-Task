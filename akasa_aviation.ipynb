{
  "nbformat": 4,
  "nbformat_minor": 0,
  "metadata": {
    "colab": {
      "provenance": [],
      "include_colab_link": true
    },
    "kernelspec": {
      "name": "python3",
      "display_name": "Python 3"
    },
    "language_info": {
      "name": "python"
    }
  },
  "cells": [
    {
      "cell_type": "markdown",
      "metadata": {
        "id": "view-in-github",
        "colab_type": "text"
      },
      "source": [
        "<a href=\"https://colab.research.google.com/github/rajiv-m16/Akasa-Data-Analytics-Task/blob/main/akasa_aviation.ipynb\" target=\"_parent\"><img src=\"https://colab.research.google.com/assets/colab-badge.svg\" alt=\"Open In Colab\"/></a>"
      ]
    },
    {
      "cell_type": "markdown",
      "source": [
        "# Interview Task - Data engineering and analytics\n",
        "\n",
        "AKASA AIR"
      ],
      "metadata": {
        "id": "zIIfc9HditZ1"
      }
    },
    {
      "cell_type": "markdown",
      "source": [
        "**Name: Rajiv Mahato**\n",
        "**Roll No.: 232010032**"
      ],
      "metadata": {
        "id": "JaFC0VJe1rPX"
      }
    },
    {
      "cell_type": "markdown",
      "source": [
        "# Data Cleaning"
      ],
      "metadata": {
        "id": "5pvao4VK0Qje"
      }
    },
    {
      "cell_type": "markdown",
      "source": [
        "**Importing necessary libraries**"
      ],
      "metadata": {
        "id": "vQqEDOmJf4LP"
      }
    },
    {
      "cell_type": "code",
      "execution_count": 55,
      "metadata": {
        "id": "9iM3W7YydUcw"
      },
      "outputs": [],
      "source": [
        "import numpy as np\n",
        "import matplotlib.pyplot as plt\n",
        "import pandas as pd\n",
        "import seaborn as sns\n",
        "import sqlite3\n",
        "\n",
        "%matplotlib inline\n",
        "%reload_ext autoreload\n",
        "%autoreload 2"
      ]
    },
    {
      "cell_type": "markdown",
      "source": [
        "*** Steps in data cleaning ***\n",
        "\n",
        "\n",
        "1.   Find null and nan values\n",
        "2.   Change all values to integer, string or datatime dtype\n",
        "3.   Find dublicate data and anamolies\n",
        "4.  correct arrival time\n",
        "5.  Analyse data by various columns\n",
        "\n",
        "\n"
      ],
      "metadata": {
        "id": "a1Rk62ygnIhl"
      }
    },
    {
      "cell_type": "code",
      "source": [
        "\n",
        "df = pd.read_csv(r\"/content/aviation.csv\")\n",
        "\n",
        "\n",
        "print(df.head())\n"
      ],
      "metadata": {
        "colab": {
          "base_uri": "https://localhost:8080/"
        },
        "id": "zH_1R-jG1r-K",
        "outputId": "bea84927-835d-4978-bd32-bb33871b4cb6"
      },
      "execution_count": 7,
      "outputs": [
        {
          "output_type": "stream",
          "name": "stdout",
          "text": [
            "  FlightNumber DepartureDate DepartureTime ArrivalDate ArrivalTime  \\\n",
            "0       AA1234    09/01/2023      08:30 AM  09/01/2023    10:45 AM   \n",
            "1       DL5678    09/01/2023      01:15 PM  09/01/2023    03:30 PM   \n",
            "2       UA9101    09/01/2023      05:00 PM  09/01/2023    07:15 PM   \n",
            "3       AA1234    09/01/2023      08:30 AM  09/01/2023    10:45 PM   \n",
            "4       DL5678    09/02/2023      02:00 PM  09/02/2023    04:10 PM   \n",
            "\n",
            "             Airline  DelayMinutes  \n",
            "0  American Airlines          15.0  \n",
            "1              Delta           5.0  \n",
            "2    United Airlines          25.0  \n",
            "3  American Airlines          30.0  \n",
            "4              Delta           NaN  \n"
          ]
        }
      ]
    },
    {
      "cell_type": "code",
      "source": [
        "df.info()\n"
      ],
      "metadata": {
        "id": "_ciYQ3VqsBUG",
        "colab": {
          "base_uri": "https://localhost:8080/"
        },
        "outputId": "d774130e-32c2-4d2f-9505-9c2b69b1c33b"
      },
      "execution_count": 8,
      "outputs": [
        {
          "output_type": "stream",
          "name": "stdout",
          "text": [
            "<class 'pandas.core.frame.DataFrame'>\n",
            "RangeIndex: 12 entries, 0 to 11\n",
            "Data columns (total 7 columns):\n",
            " #   Column         Non-Null Count  Dtype  \n",
            "---  ------         --------------  -----  \n",
            " 0   FlightNumber   12 non-null     object \n",
            " 1   DepartureDate  12 non-null     object \n",
            " 2   DepartureTime  12 non-null     object \n",
            " 3   ArrivalDate    12 non-null     object \n",
            " 4   ArrivalTime    12 non-null     object \n",
            " 5   Airline        12 non-null     object \n",
            " 6   DelayMinutes   10 non-null     float64\n",
            "dtypes: float64(1), object(6)\n",
            "memory usage: 800.0+ bytes\n"
          ]
        }
      ]
    },
    {
      "cell_type": "markdown",
      "source": [
        "**Finding nan values**"
      ],
      "metadata": {
        "id": "vQ31xYNeqEzB"
      }
    },
    {
      "cell_type": "code",
      "source": [
        "nan_values = df.isna()\n",
        "print(nan_values)"
      ],
      "metadata": {
        "id": "Lk4mGl72Nfsy",
        "colab": {
          "base_uri": "https://localhost:8080/"
        },
        "outputId": "595dfb81-1660-492f-b08c-1c15f11aa680"
      },
      "execution_count": 9,
      "outputs": [
        {
          "output_type": "stream",
          "name": "stdout",
          "text": [
            "    FlightNumber  DepartureDate  DepartureTime  ArrivalDate  ArrivalTime  \\\n",
            "0          False          False          False        False        False   \n",
            "1          False          False          False        False        False   \n",
            "2          False          False          False        False        False   \n",
            "3          False          False          False        False        False   \n",
            "4          False          False          False        False        False   \n",
            "5          False          False          False        False        False   \n",
            "6          False          False          False        False        False   \n",
            "7          False          False          False        False        False   \n",
            "8          False          False          False        False        False   \n",
            "9          False          False          False        False        False   \n",
            "10         False          False          False        False        False   \n",
            "11         False          False          False        False        False   \n",
            "\n",
            "    Airline  DelayMinutes  \n",
            "0     False         False  \n",
            "1     False         False  \n",
            "2     False         False  \n",
            "3     False         False  \n",
            "4     False          True  \n",
            "5     False         False  \n",
            "6     False         False  \n",
            "7     False         False  \n",
            "8     False          True  \n",
            "9     False         False  \n",
            "10    False         False  \n",
            "11    False         False  \n"
          ]
        }
      ]
    },
    {
      "cell_type": "markdown",
      "source": [
        "**Replacing nan values with median values in delayminutes column**"
      ],
      "metadata": {
        "id": "VA02jDxAPcir"
      }
    },
    {
      "cell_type": "code",
      "source": [
        "df['DelayMinutes'].fillna(df['DelayMinutes'].mean(),inplace = True)\n",
        "df.head()"
      ],
      "metadata": {
        "id": "R5JIRnuBOQKK",
        "colab": {
          "base_uri": "https://localhost:8080/",
          "height": 206
        },
        "outputId": "f3c6bb9e-047d-423f-835c-071df575fca3"
      },
      "execution_count": 10,
      "outputs": [
        {
          "output_type": "execute_result",
          "data": {
            "text/plain": [
              "  FlightNumber DepartureDate DepartureTime ArrivalDate ArrivalTime  \\\n",
              "0       AA1234    09/01/2023      08:30 AM  09/01/2023    10:45 AM   \n",
              "1       DL5678    09/01/2023      01:15 PM  09/01/2023    03:30 PM   \n",
              "2       UA9101    09/01/2023      05:00 PM  09/01/2023    07:15 PM   \n",
              "3       AA1234    09/01/2023      08:30 AM  09/01/2023    10:45 PM   \n",
              "4       DL5678    09/02/2023      02:00 PM  09/02/2023    04:10 PM   \n",
              "\n",
              "             Airline  DelayMinutes  \n",
              "0  American Airlines          15.0  \n",
              "1              Delta           5.0  \n",
              "2    United Airlines          25.0  \n",
              "3  American Airlines          30.0  \n",
              "4              Delta          25.0  "
            ],
            "text/html": [
              "\n",
              "  <div id=\"df-998ed693-296c-4c6a-abb0-c970dd0880fd\" class=\"colab-df-container\">\n",
              "    <div>\n",
              "<style scoped>\n",
              "    .dataframe tbody tr th:only-of-type {\n",
              "        vertical-align: middle;\n",
              "    }\n",
              "\n",
              "    .dataframe tbody tr th {\n",
              "        vertical-align: top;\n",
              "    }\n",
              "\n",
              "    .dataframe thead th {\n",
              "        text-align: right;\n",
              "    }\n",
              "</style>\n",
              "<table border=\"1\" class=\"dataframe\">\n",
              "  <thead>\n",
              "    <tr style=\"text-align: right;\">\n",
              "      <th></th>\n",
              "      <th>FlightNumber</th>\n",
              "      <th>DepartureDate</th>\n",
              "      <th>DepartureTime</th>\n",
              "      <th>ArrivalDate</th>\n",
              "      <th>ArrivalTime</th>\n",
              "      <th>Airline</th>\n",
              "      <th>DelayMinutes</th>\n",
              "    </tr>\n",
              "  </thead>\n",
              "  <tbody>\n",
              "    <tr>\n",
              "      <th>0</th>\n",
              "      <td>AA1234</td>\n",
              "      <td>09/01/2023</td>\n",
              "      <td>08:30 AM</td>\n",
              "      <td>09/01/2023</td>\n",
              "      <td>10:45 AM</td>\n",
              "      <td>American Airlines</td>\n",
              "      <td>15.0</td>\n",
              "    </tr>\n",
              "    <tr>\n",
              "      <th>1</th>\n",
              "      <td>DL5678</td>\n",
              "      <td>09/01/2023</td>\n",
              "      <td>01:15 PM</td>\n",
              "      <td>09/01/2023</td>\n",
              "      <td>03:30 PM</td>\n",
              "      <td>Delta</td>\n",
              "      <td>5.0</td>\n",
              "    </tr>\n",
              "    <tr>\n",
              "      <th>2</th>\n",
              "      <td>UA9101</td>\n",
              "      <td>09/01/2023</td>\n",
              "      <td>05:00 PM</td>\n",
              "      <td>09/01/2023</td>\n",
              "      <td>07:15 PM</td>\n",
              "      <td>United Airlines</td>\n",
              "      <td>25.0</td>\n",
              "    </tr>\n",
              "    <tr>\n",
              "      <th>3</th>\n",
              "      <td>AA1234</td>\n",
              "      <td>09/01/2023</td>\n",
              "      <td>08:30 AM</td>\n",
              "      <td>09/01/2023</td>\n",
              "      <td>10:45 PM</td>\n",
              "      <td>American Airlines</td>\n",
              "      <td>30.0</td>\n",
              "    </tr>\n",
              "    <tr>\n",
              "      <th>4</th>\n",
              "      <td>DL5678</td>\n",
              "      <td>09/02/2023</td>\n",
              "      <td>02:00 PM</td>\n",
              "      <td>09/02/2023</td>\n",
              "      <td>04:10 PM</td>\n",
              "      <td>Delta</td>\n",
              "      <td>25.0</td>\n",
              "    </tr>\n",
              "  </tbody>\n",
              "</table>\n",
              "</div>\n",
              "    <div class=\"colab-df-buttons\">\n",
              "\n",
              "  <div class=\"colab-df-container\">\n",
              "    <button class=\"colab-df-convert\" onclick=\"convertToInteractive('df-998ed693-296c-4c6a-abb0-c970dd0880fd')\"\n",
              "            title=\"Convert this dataframe to an interactive table.\"\n",
              "            style=\"display:none;\">\n",
              "\n",
              "  <svg xmlns=\"http://www.w3.org/2000/svg\" height=\"24px\" viewBox=\"0 -960 960 960\">\n",
              "    <path d=\"M120-120v-720h720v720H120Zm60-500h600v-160H180v160Zm220 220h160v-160H400v160Zm0 220h160v-160H400v160ZM180-400h160v-160H180v160Zm440 0h160v-160H620v160ZM180-180h160v-160H180v160Zm440 0h160v-160H620v160Z\"/>\n",
              "  </svg>\n",
              "    </button>\n",
              "\n",
              "  <style>\n",
              "    .colab-df-container {\n",
              "      display:flex;\n",
              "      gap: 12px;\n",
              "    }\n",
              "\n",
              "    .colab-df-convert {\n",
              "      background-color: #E8F0FE;\n",
              "      border: none;\n",
              "      border-radius: 50%;\n",
              "      cursor: pointer;\n",
              "      display: none;\n",
              "      fill: #1967D2;\n",
              "      height: 32px;\n",
              "      padding: 0 0 0 0;\n",
              "      width: 32px;\n",
              "    }\n",
              "\n",
              "    .colab-df-convert:hover {\n",
              "      background-color: #E2EBFA;\n",
              "      box-shadow: 0px 1px 2px rgba(60, 64, 67, 0.3), 0px 1px 3px 1px rgba(60, 64, 67, 0.15);\n",
              "      fill: #174EA6;\n",
              "    }\n",
              "\n",
              "    .colab-df-buttons div {\n",
              "      margin-bottom: 4px;\n",
              "    }\n",
              "\n",
              "    [theme=dark] .colab-df-convert {\n",
              "      background-color: #3B4455;\n",
              "      fill: #D2E3FC;\n",
              "    }\n",
              "\n",
              "    [theme=dark] .colab-df-convert:hover {\n",
              "      background-color: #434B5C;\n",
              "      box-shadow: 0px 1px 3px 1px rgba(0, 0, 0, 0.15);\n",
              "      filter: drop-shadow(0px 1px 2px rgba(0, 0, 0, 0.3));\n",
              "      fill: #FFFFFF;\n",
              "    }\n",
              "  </style>\n",
              "\n",
              "    <script>\n",
              "      const buttonEl =\n",
              "        document.querySelector('#df-998ed693-296c-4c6a-abb0-c970dd0880fd button.colab-df-convert');\n",
              "      buttonEl.style.display =\n",
              "        google.colab.kernel.accessAllowed ? 'block' : 'none';\n",
              "\n",
              "      async function convertToInteractive(key) {\n",
              "        const element = document.querySelector('#df-998ed693-296c-4c6a-abb0-c970dd0880fd');\n",
              "        const dataTable =\n",
              "          await google.colab.kernel.invokeFunction('convertToInteractive',\n",
              "                                                    [key], {});\n",
              "        if (!dataTable) return;\n",
              "\n",
              "        const docLinkHtml = 'Like what you see? Visit the ' +\n",
              "          '<a target=\"_blank\" href=https://colab.research.google.com/notebooks/data_table.ipynb>data table notebook</a>'\n",
              "          + ' to learn more about interactive tables.';\n",
              "        element.innerHTML = '';\n",
              "        dataTable['output_type'] = 'display_data';\n",
              "        await google.colab.output.renderOutput(dataTable, element);\n",
              "        const docLink = document.createElement('div');\n",
              "        docLink.innerHTML = docLinkHtml;\n",
              "        element.appendChild(docLink);\n",
              "      }\n",
              "    </script>\n",
              "  </div>\n",
              "\n",
              "\n",
              "<div id=\"df-c7f7351a-b022-4e8a-90b3-09b72ba1c9bb\">\n",
              "  <button class=\"colab-df-quickchart\" onclick=\"quickchart('df-c7f7351a-b022-4e8a-90b3-09b72ba1c9bb')\"\n",
              "            title=\"Suggest charts\"\n",
              "            style=\"display:none;\">\n",
              "\n",
              "<svg xmlns=\"http://www.w3.org/2000/svg\" height=\"24px\"viewBox=\"0 0 24 24\"\n",
              "     width=\"24px\">\n",
              "    <g>\n",
              "        <path d=\"M19 3H5c-1.1 0-2 .9-2 2v14c0 1.1.9 2 2 2h14c1.1 0 2-.9 2-2V5c0-1.1-.9-2-2-2zM9 17H7v-7h2v7zm4 0h-2V7h2v10zm4 0h-2v-4h2v4z\"/>\n",
              "    </g>\n",
              "</svg>\n",
              "  </button>\n",
              "\n",
              "<style>\n",
              "  .colab-df-quickchart {\n",
              "      --bg-color: #E8F0FE;\n",
              "      --fill-color: #1967D2;\n",
              "      --hover-bg-color: #E2EBFA;\n",
              "      --hover-fill-color: #174EA6;\n",
              "      --disabled-fill-color: #AAA;\n",
              "      --disabled-bg-color: #DDD;\n",
              "  }\n",
              "\n",
              "  [theme=dark] .colab-df-quickchart {\n",
              "      --bg-color: #3B4455;\n",
              "      --fill-color: #D2E3FC;\n",
              "      --hover-bg-color: #434B5C;\n",
              "      --hover-fill-color: #FFFFFF;\n",
              "      --disabled-bg-color: #3B4455;\n",
              "      --disabled-fill-color: #666;\n",
              "  }\n",
              "\n",
              "  .colab-df-quickchart {\n",
              "    background-color: var(--bg-color);\n",
              "    border: none;\n",
              "    border-radius: 50%;\n",
              "    cursor: pointer;\n",
              "    display: none;\n",
              "    fill: var(--fill-color);\n",
              "    height: 32px;\n",
              "    padding: 0;\n",
              "    width: 32px;\n",
              "  }\n",
              "\n",
              "  .colab-df-quickchart:hover {\n",
              "    background-color: var(--hover-bg-color);\n",
              "    box-shadow: 0 1px 2px rgba(60, 64, 67, 0.3), 0 1px 3px 1px rgba(60, 64, 67, 0.15);\n",
              "    fill: var(--button-hover-fill-color);\n",
              "  }\n",
              "\n",
              "  .colab-df-quickchart-complete:disabled,\n",
              "  .colab-df-quickchart-complete:disabled:hover {\n",
              "    background-color: var(--disabled-bg-color);\n",
              "    fill: var(--disabled-fill-color);\n",
              "    box-shadow: none;\n",
              "  }\n",
              "\n",
              "  .colab-df-spinner {\n",
              "    border: 2px solid var(--fill-color);\n",
              "    border-color: transparent;\n",
              "    border-bottom-color: var(--fill-color);\n",
              "    animation:\n",
              "      spin 1s steps(1) infinite;\n",
              "  }\n",
              "\n",
              "  @keyframes spin {\n",
              "    0% {\n",
              "      border-color: transparent;\n",
              "      border-bottom-color: var(--fill-color);\n",
              "      border-left-color: var(--fill-color);\n",
              "    }\n",
              "    20% {\n",
              "      border-color: transparent;\n",
              "      border-left-color: var(--fill-color);\n",
              "      border-top-color: var(--fill-color);\n",
              "    }\n",
              "    30% {\n",
              "      border-color: transparent;\n",
              "      border-left-color: var(--fill-color);\n",
              "      border-top-color: var(--fill-color);\n",
              "      border-right-color: var(--fill-color);\n",
              "    }\n",
              "    40% {\n",
              "      border-color: transparent;\n",
              "      border-right-color: var(--fill-color);\n",
              "      border-top-color: var(--fill-color);\n",
              "    }\n",
              "    60% {\n",
              "      border-color: transparent;\n",
              "      border-right-color: var(--fill-color);\n",
              "    }\n",
              "    80% {\n",
              "      border-color: transparent;\n",
              "      border-right-color: var(--fill-color);\n",
              "      border-bottom-color: var(--fill-color);\n",
              "    }\n",
              "    90% {\n",
              "      border-color: transparent;\n",
              "      border-bottom-color: var(--fill-color);\n",
              "    }\n",
              "  }\n",
              "</style>\n",
              "\n",
              "  <script>\n",
              "    async function quickchart(key) {\n",
              "      const quickchartButtonEl =\n",
              "        document.querySelector('#' + key + ' button');\n",
              "      quickchartButtonEl.disabled = true;  // To prevent multiple clicks.\n",
              "      quickchartButtonEl.classList.add('colab-df-spinner');\n",
              "      try {\n",
              "        const charts = await google.colab.kernel.invokeFunction(\n",
              "            'suggestCharts', [key], {});\n",
              "      } catch (error) {\n",
              "        console.error('Error during call to suggestCharts:', error);\n",
              "      }\n",
              "      quickchartButtonEl.classList.remove('colab-df-spinner');\n",
              "      quickchartButtonEl.classList.add('colab-df-quickchart-complete');\n",
              "    }\n",
              "    (() => {\n",
              "      let quickchartButtonEl =\n",
              "        document.querySelector('#df-c7f7351a-b022-4e8a-90b3-09b72ba1c9bb button');\n",
              "      quickchartButtonEl.style.display =\n",
              "        google.colab.kernel.accessAllowed ? 'block' : 'none';\n",
              "    })();\n",
              "  </script>\n",
              "</div>\n",
              "\n",
              "    </div>\n",
              "  </div>\n"
            ],
            "application/vnd.google.colaboratory.intrinsic+json": {
              "type": "dataframe",
              "variable_name": "df",
              "summary": "{\n  \"name\": \"df\",\n  \"rows\": 12,\n  \"fields\": [\n    {\n      \"column\": \"FlightNumber\",\n      \"properties\": {\n        \"dtype\": \"category\",\n        \"num_unique_values\": 3,\n        \"samples\": [\n          \"AA1234\",\n          \"DL5678\",\n          \"UA9101\"\n        ],\n        \"semantic_type\": \"\",\n        \"description\": \"\"\n      }\n    },\n    {\n      \"column\": \"DepartureDate\",\n      \"properties\": {\n        \"dtype\": \"object\",\n        \"num_unique_values\": 4,\n        \"samples\": [\n          \"09/02/2023\",\n          \"09/04/2023\",\n          \"09/01/2023\"\n        ],\n        \"semantic_type\": \"\",\n        \"description\": \"\"\n      }\n    },\n    {\n      \"column\": \"DepartureTime\",\n      \"properties\": {\n        \"dtype\": \"object\",\n        \"num_unique_values\": 9,\n        \"samples\": [\n          \"12:30 PM\",\n          \"01:15 PM\",\n          \"01:00 PM\"\n        ],\n        \"semantic_type\": \"\",\n        \"description\": \"\"\n      }\n    },\n    {\n      \"column\": \"ArrivalDate\",\n      \"properties\": {\n        \"dtype\": \"object\",\n        \"num_unique_values\": 4,\n        \"samples\": [\n          \"09/02/2023\",\n          \"09/04/2023\",\n          \"09/01/2023\"\n        ],\n        \"semantic_type\": \"\",\n        \"description\": \"\"\n      }\n    },\n    {\n      \"column\": \"ArrivalTime\",\n      \"properties\": {\n        \"dtype\": \"object\",\n        \"num_unique_values\": 9,\n        \"samples\": [\n          \"02:40 PM\",\n          \"03:30 PM\",\n          \"05:20 PM\"\n        ],\n        \"semantic_type\": \"\",\n        \"description\": \"\"\n      }\n    },\n    {\n      \"column\": \"Airline\",\n      \"properties\": {\n        \"dtype\": \"category\",\n        \"num_unique_values\": 3,\n        \"samples\": [\n          \"American Airlines\",\n          \"Delta\",\n          \"United Airlines\"\n        ],\n        \"semantic_type\": \"\",\n        \"description\": \"\"\n      }\n    },\n    {\n      \"column\": \"DelayMinutes\",\n      \"properties\": {\n        \"dtype\": \"number\",\n        \"std\": 15.07556722888818,\n        \"min\": 5.0,\n        \"max\": 60.0,\n        \"num_unique_values\": 8,\n        \"samples\": [\n          5.0,\n          60.0,\n          15.0\n        ],\n        \"semantic_type\": \"\",\n        \"description\": \"\"\n      }\n    }\n  ]\n}"
            }
          },
          "metadata": {},
          "execution_count": 10
        }
      ]
    },
    {
      "cell_type": "markdown",
      "source": [
        "\n",
        "> Nan values rows can be dealt in 2 ways:\n",
        "1. deleting nan values containing rows\n",
        "2. filling nan values with mean, median or mode of the respective columns.\n",
        "Here, i used second option as deleting 2 rows in a small dataset can severly impact results of the analysis.\n",
        "\n"
      ],
      "metadata": {
        "id": "tkOit2CxPWFb"
      }
    },
    {
      "cell_type": "code",
      "source": [
        "# creating a copy of df\n",
        "df_copy = df.copy()\n"
      ],
      "metadata": {
        "id": "eAesetmeQYtt"
      },
      "execution_count": 11,
      "outputs": []
    },
    {
      "cell_type": "markdown",
      "source": [
        "**Checking for dublicates**"
      ],
      "metadata": {
        "id": "rsuay4yh5Y1y"
      }
    },
    {
      "cell_type": "code",
      "source": [
        "duplicates  = df[df.duplicated(subset=['FlightNumber','DepartureDate','DepartureTime'])]\n",
        "\n",
        "\n",
        "duplicates\n"
      ],
      "metadata": {
        "id": "4bQSFMqVUEih",
        "colab": {
          "base_uri": "https://localhost:8080/",
          "height": 89
        },
        "outputId": "d0f196c2-bd11-4c6b-e663-70967f45a94c"
      },
      "execution_count": 12,
      "outputs": [
        {
          "output_type": "execute_result",
          "data": {
            "text/plain": [
              "  FlightNumber DepartureDate DepartureTime ArrivalDate ArrivalTime  \\\n",
              "3       AA1234    09/01/2023      08:30 AM  09/01/2023    10:45 PM   \n",
              "\n",
              "             Airline  DelayMinutes  \n",
              "3  American Airlines          30.0  "
            ],
            "text/html": [
              "\n",
              "  <div id=\"df-23edbaf4-cf59-4753-bf82-b8372672043c\" class=\"colab-df-container\">\n",
              "    <div>\n",
              "<style scoped>\n",
              "    .dataframe tbody tr th:only-of-type {\n",
              "        vertical-align: middle;\n",
              "    }\n",
              "\n",
              "    .dataframe tbody tr th {\n",
              "        vertical-align: top;\n",
              "    }\n",
              "\n",
              "    .dataframe thead th {\n",
              "        text-align: right;\n",
              "    }\n",
              "</style>\n",
              "<table border=\"1\" class=\"dataframe\">\n",
              "  <thead>\n",
              "    <tr style=\"text-align: right;\">\n",
              "      <th></th>\n",
              "      <th>FlightNumber</th>\n",
              "      <th>DepartureDate</th>\n",
              "      <th>DepartureTime</th>\n",
              "      <th>ArrivalDate</th>\n",
              "      <th>ArrivalTime</th>\n",
              "      <th>Airline</th>\n",
              "      <th>DelayMinutes</th>\n",
              "    </tr>\n",
              "  </thead>\n",
              "  <tbody>\n",
              "    <tr>\n",
              "      <th>3</th>\n",
              "      <td>AA1234</td>\n",
              "      <td>09/01/2023</td>\n",
              "      <td>08:30 AM</td>\n",
              "      <td>09/01/2023</td>\n",
              "      <td>10:45 PM</td>\n",
              "      <td>American Airlines</td>\n",
              "      <td>30.0</td>\n",
              "    </tr>\n",
              "  </tbody>\n",
              "</table>\n",
              "</div>\n",
              "    <div class=\"colab-df-buttons\">\n",
              "\n",
              "  <div class=\"colab-df-container\">\n",
              "    <button class=\"colab-df-convert\" onclick=\"convertToInteractive('df-23edbaf4-cf59-4753-bf82-b8372672043c')\"\n",
              "            title=\"Convert this dataframe to an interactive table.\"\n",
              "            style=\"display:none;\">\n",
              "\n",
              "  <svg xmlns=\"http://www.w3.org/2000/svg\" height=\"24px\" viewBox=\"0 -960 960 960\">\n",
              "    <path d=\"M120-120v-720h720v720H120Zm60-500h600v-160H180v160Zm220 220h160v-160H400v160Zm0 220h160v-160H400v160ZM180-400h160v-160H180v160Zm440 0h160v-160H620v160ZM180-180h160v-160H180v160Zm440 0h160v-160H620v160Z\"/>\n",
              "  </svg>\n",
              "    </button>\n",
              "\n",
              "  <style>\n",
              "    .colab-df-container {\n",
              "      display:flex;\n",
              "      gap: 12px;\n",
              "    }\n",
              "\n",
              "    .colab-df-convert {\n",
              "      background-color: #E8F0FE;\n",
              "      border: none;\n",
              "      border-radius: 50%;\n",
              "      cursor: pointer;\n",
              "      display: none;\n",
              "      fill: #1967D2;\n",
              "      height: 32px;\n",
              "      padding: 0 0 0 0;\n",
              "      width: 32px;\n",
              "    }\n",
              "\n",
              "    .colab-df-convert:hover {\n",
              "      background-color: #E2EBFA;\n",
              "      box-shadow: 0px 1px 2px rgba(60, 64, 67, 0.3), 0px 1px 3px 1px rgba(60, 64, 67, 0.15);\n",
              "      fill: #174EA6;\n",
              "    }\n",
              "\n",
              "    .colab-df-buttons div {\n",
              "      margin-bottom: 4px;\n",
              "    }\n",
              "\n",
              "    [theme=dark] .colab-df-convert {\n",
              "      background-color: #3B4455;\n",
              "      fill: #D2E3FC;\n",
              "    }\n",
              "\n",
              "    [theme=dark] .colab-df-convert:hover {\n",
              "      background-color: #434B5C;\n",
              "      box-shadow: 0px 1px 3px 1px rgba(0, 0, 0, 0.15);\n",
              "      filter: drop-shadow(0px 1px 2px rgba(0, 0, 0, 0.3));\n",
              "      fill: #FFFFFF;\n",
              "    }\n",
              "  </style>\n",
              "\n",
              "    <script>\n",
              "      const buttonEl =\n",
              "        document.querySelector('#df-23edbaf4-cf59-4753-bf82-b8372672043c button.colab-df-convert');\n",
              "      buttonEl.style.display =\n",
              "        google.colab.kernel.accessAllowed ? 'block' : 'none';\n",
              "\n",
              "      async function convertToInteractive(key) {\n",
              "        const element = document.querySelector('#df-23edbaf4-cf59-4753-bf82-b8372672043c');\n",
              "        const dataTable =\n",
              "          await google.colab.kernel.invokeFunction('convertToInteractive',\n",
              "                                                    [key], {});\n",
              "        if (!dataTable) return;\n",
              "\n",
              "        const docLinkHtml = 'Like what you see? Visit the ' +\n",
              "          '<a target=\"_blank\" href=https://colab.research.google.com/notebooks/data_table.ipynb>data table notebook</a>'\n",
              "          + ' to learn more about interactive tables.';\n",
              "        element.innerHTML = '';\n",
              "        dataTable['output_type'] = 'display_data';\n",
              "        await google.colab.output.renderOutput(dataTable, element);\n",
              "        const docLink = document.createElement('div');\n",
              "        docLink.innerHTML = docLinkHtml;\n",
              "        element.appendChild(docLink);\n",
              "      }\n",
              "    </script>\n",
              "  </div>\n",
              "\n",
              "\n",
              "  <div id=\"id_6095d34d-3c73-41a2-b8e7-14d8d8b8c89e\">\n",
              "    <style>\n",
              "      .colab-df-generate {\n",
              "        background-color: #E8F0FE;\n",
              "        border: none;\n",
              "        border-radius: 50%;\n",
              "        cursor: pointer;\n",
              "        display: none;\n",
              "        fill: #1967D2;\n",
              "        height: 32px;\n",
              "        padding: 0 0 0 0;\n",
              "        width: 32px;\n",
              "      }\n",
              "\n",
              "      .colab-df-generate:hover {\n",
              "        background-color: #E2EBFA;\n",
              "        box-shadow: 0px 1px 2px rgba(60, 64, 67, 0.3), 0px 1px 3px 1px rgba(60, 64, 67, 0.15);\n",
              "        fill: #174EA6;\n",
              "      }\n",
              "\n",
              "      [theme=dark] .colab-df-generate {\n",
              "        background-color: #3B4455;\n",
              "        fill: #D2E3FC;\n",
              "      }\n",
              "\n",
              "      [theme=dark] .colab-df-generate:hover {\n",
              "        background-color: #434B5C;\n",
              "        box-shadow: 0px 1px 3px 1px rgba(0, 0, 0, 0.15);\n",
              "        filter: drop-shadow(0px 1px 2px rgba(0, 0, 0, 0.3));\n",
              "        fill: #FFFFFF;\n",
              "      }\n",
              "    </style>\n",
              "    <button class=\"colab-df-generate\" onclick=\"generateWithVariable('duplicates')\"\n",
              "            title=\"Generate code using this dataframe.\"\n",
              "            style=\"display:none;\">\n",
              "\n",
              "  <svg xmlns=\"http://www.w3.org/2000/svg\" height=\"24px\"viewBox=\"0 0 24 24\"\n",
              "       width=\"24px\">\n",
              "    <path d=\"M7,19H8.4L18.45,9,17,7.55,7,17.6ZM5,21V16.75L18.45,3.32a2,2,0,0,1,2.83,0l1.4,1.43a1.91,1.91,0,0,1,.58,1.4,1.91,1.91,0,0,1-.58,1.4L9.25,21ZM18.45,9,17,7.55Zm-12,3A5.31,5.31,0,0,0,4.9,8.1,5.31,5.31,0,0,0,1,6.5,5.31,5.31,0,0,0,4.9,4.9,5.31,5.31,0,0,0,6.5,1,5.31,5.31,0,0,0,8.1,4.9,5.31,5.31,0,0,0,12,6.5,5.46,5.46,0,0,0,6.5,12Z\"/>\n",
              "  </svg>\n",
              "    </button>\n",
              "    <script>\n",
              "      (() => {\n",
              "      const buttonEl =\n",
              "        document.querySelector('#id_6095d34d-3c73-41a2-b8e7-14d8d8b8c89e button.colab-df-generate');\n",
              "      buttonEl.style.display =\n",
              "        google.colab.kernel.accessAllowed ? 'block' : 'none';\n",
              "\n",
              "      buttonEl.onclick = () => {\n",
              "        google.colab.notebook.generateWithVariable('duplicates');\n",
              "      }\n",
              "      })();\n",
              "    </script>\n",
              "  </div>\n",
              "\n",
              "    </div>\n",
              "  </div>\n"
            ],
            "application/vnd.google.colaboratory.intrinsic+json": {
              "type": "dataframe",
              "variable_name": "duplicates",
              "repr_error": "0"
            }
          },
          "metadata": {},
          "execution_count": 12
        }
      ]
    },
    {
      "cell_type": "markdown",
      "source": [
        "**Removing the dublicate row which is row with index 3**"
      ],
      "metadata": {
        "id": "AGGPbGz4ACA3"
      }
    },
    {
      "cell_type": "code",
      "source": [
        "df.drop(3, inplace = True)\n",
        "\n",
        "\n",
        "# Reseting the index after dropping the row\n",
        "\n",
        "\n",
        "df.reset_index(drop=True, inplace=True)\n"
      ],
      "metadata": {
        "id": "gCc9uxAgAAi8"
      },
      "execution_count": 13,
      "outputs": []
    },
    {
      "cell_type": "markdown",
      "source": [
        "**Converting time to 24 hour format**"
      ],
      "metadata": {
        "id": "tjxVtCjY5RwJ"
      }
    },
    {
      "cell_type": "code",
      "source": [
        "# converting values dtypes into datetime format and changing format to 24 hours\n",
        "\n",
        "df['DepartureTime'] = pd.to_datetime(df['DepartureTime'],format = '%I:%M %p').dt.time\n",
        "df['ArrivalTime'] = pd.to_datetime(df['ArrivalTime'],format = '%I:%M %p').dt.time\n",
        "\n",
        "\n"
      ],
      "metadata": {
        "id": "leoNAwdm5WtF"
      },
      "execution_count": 14,
      "outputs": []
    },
    {
      "cell_type": "markdown",
      "source": [
        "**Changing date format from mm-dd-yyyy to yyyy-mm-dd**"
      ],
      "metadata": {
        "id": "LUU3ckbhyGa0"
      }
    },
    {
      "cell_type": "code",
      "source": [
        "# converting values dtypes into datetime format\n",
        "df['DepartureDate'] = pd.to_datetime(df['DepartureDate'], format='%m/%d/%Y')\n",
        "df['ArrivalDate'] = pd.to_datetime(df['ArrivalDate'], format='%m/%d/%Y')\n",
        "\n"
      ],
      "metadata": {
        "collapsed": true,
        "id": "bzmiDt9Q07yh"
      },
      "execution_count": 15,
      "outputs": []
    },
    {
      "cell_type": "code",
      "source": [
        "df"
      ],
      "metadata": {
        "colab": {
          "base_uri": "https://localhost:8080/",
          "height": 394
        },
        "id": "dqa4nv2cPluP",
        "outputId": "8e7b16ff-d743-491b-babb-a01b3d68bb19"
      },
      "execution_count": 16,
      "outputs": [
        {
          "output_type": "execute_result",
          "data": {
            "text/plain": [
              "   FlightNumber DepartureDate DepartureTime ArrivalDate ArrivalTime  \\\n",
              "0        AA1234    2023-09-01      08:30:00  2023-09-01    10:45:00   \n",
              "1        DL5678    2023-09-01      13:15:00  2023-09-01    15:30:00   \n",
              "2        UA9101    2023-09-01      17:00:00  2023-09-01    19:15:00   \n",
              "3        DL5678    2023-09-02      14:00:00  2023-09-02    16:10:00   \n",
              "4        UA9101    2023-09-02      17:00:00  2023-09-02    19:15:00   \n",
              "5        AA1234    2023-09-02      20:30:00  2023-09-03    10:45:00   \n",
              "6        DL5678    2023-09-03      13:00:00  2023-09-03    15:30:00   \n",
              "7        UA9101    2023-09-03      15:00:00  2023-09-03    17:20:00   \n",
              "8        AA1234    2023-09-03      08:30:00  2023-09-03    10:00:00   \n",
              "9        DL5678    2023-09-04      12:30:00  2023-09-04    14:40:00   \n",
              "10       UA9101    2023-09-04      19:00:00  2023-09-04    21:15:00   \n",
              "\n",
              "              Airline  DelayMinutes  \n",
              "0   American Airlines          15.0  \n",
              "1               Delta           5.0  \n",
              "2     United Airlines          25.0  \n",
              "3               Delta          25.0  \n",
              "4     United Airlines          20.0  \n",
              "5   American Airlines          60.0  \n",
              "6               Delta          10.0  \n",
              "7     United Airlines          25.0  \n",
              "8   American Airlines          15.0  \n",
              "9               Delta          25.0  \n",
              "10    United Airlines          45.0  "
            ],
            "text/html": [
              "\n",
              "  <div id=\"df-266ea079-bf6b-41c4-bc69-b55d3969a449\" class=\"colab-df-container\">\n",
              "    <div>\n",
              "<style scoped>\n",
              "    .dataframe tbody tr th:only-of-type {\n",
              "        vertical-align: middle;\n",
              "    }\n",
              "\n",
              "    .dataframe tbody tr th {\n",
              "        vertical-align: top;\n",
              "    }\n",
              "\n",
              "    .dataframe thead th {\n",
              "        text-align: right;\n",
              "    }\n",
              "</style>\n",
              "<table border=\"1\" class=\"dataframe\">\n",
              "  <thead>\n",
              "    <tr style=\"text-align: right;\">\n",
              "      <th></th>\n",
              "      <th>FlightNumber</th>\n",
              "      <th>DepartureDate</th>\n",
              "      <th>DepartureTime</th>\n",
              "      <th>ArrivalDate</th>\n",
              "      <th>ArrivalTime</th>\n",
              "      <th>Airline</th>\n",
              "      <th>DelayMinutes</th>\n",
              "    </tr>\n",
              "  </thead>\n",
              "  <tbody>\n",
              "    <tr>\n",
              "      <th>0</th>\n",
              "      <td>AA1234</td>\n",
              "      <td>2023-09-01</td>\n",
              "      <td>08:30:00</td>\n",
              "      <td>2023-09-01</td>\n",
              "      <td>10:45:00</td>\n",
              "      <td>American Airlines</td>\n",
              "      <td>15.0</td>\n",
              "    </tr>\n",
              "    <tr>\n",
              "      <th>1</th>\n",
              "      <td>DL5678</td>\n",
              "      <td>2023-09-01</td>\n",
              "      <td>13:15:00</td>\n",
              "      <td>2023-09-01</td>\n",
              "      <td>15:30:00</td>\n",
              "      <td>Delta</td>\n",
              "      <td>5.0</td>\n",
              "    </tr>\n",
              "    <tr>\n",
              "      <th>2</th>\n",
              "      <td>UA9101</td>\n",
              "      <td>2023-09-01</td>\n",
              "      <td>17:00:00</td>\n",
              "      <td>2023-09-01</td>\n",
              "      <td>19:15:00</td>\n",
              "      <td>United Airlines</td>\n",
              "      <td>25.0</td>\n",
              "    </tr>\n",
              "    <tr>\n",
              "      <th>3</th>\n",
              "      <td>DL5678</td>\n",
              "      <td>2023-09-02</td>\n",
              "      <td>14:00:00</td>\n",
              "      <td>2023-09-02</td>\n",
              "      <td>16:10:00</td>\n",
              "      <td>Delta</td>\n",
              "      <td>25.0</td>\n",
              "    </tr>\n",
              "    <tr>\n",
              "      <th>4</th>\n",
              "      <td>UA9101</td>\n",
              "      <td>2023-09-02</td>\n",
              "      <td>17:00:00</td>\n",
              "      <td>2023-09-02</td>\n",
              "      <td>19:15:00</td>\n",
              "      <td>United Airlines</td>\n",
              "      <td>20.0</td>\n",
              "    </tr>\n",
              "    <tr>\n",
              "      <th>5</th>\n",
              "      <td>AA1234</td>\n",
              "      <td>2023-09-02</td>\n",
              "      <td>20:30:00</td>\n",
              "      <td>2023-09-03</td>\n",
              "      <td>10:45:00</td>\n",
              "      <td>American Airlines</td>\n",
              "      <td>60.0</td>\n",
              "    </tr>\n",
              "    <tr>\n",
              "      <th>6</th>\n",
              "      <td>DL5678</td>\n",
              "      <td>2023-09-03</td>\n",
              "      <td>13:00:00</td>\n",
              "      <td>2023-09-03</td>\n",
              "      <td>15:30:00</td>\n",
              "      <td>Delta</td>\n",
              "      <td>10.0</td>\n",
              "    </tr>\n",
              "    <tr>\n",
              "      <th>7</th>\n",
              "      <td>UA9101</td>\n",
              "      <td>2023-09-03</td>\n",
              "      <td>15:00:00</td>\n",
              "      <td>2023-09-03</td>\n",
              "      <td>17:20:00</td>\n",
              "      <td>United Airlines</td>\n",
              "      <td>25.0</td>\n",
              "    </tr>\n",
              "    <tr>\n",
              "      <th>8</th>\n",
              "      <td>AA1234</td>\n",
              "      <td>2023-09-03</td>\n",
              "      <td>08:30:00</td>\n",
              "      <td>2023-09-03</td>\n",
              "      <td>10:00:00</td>\n",
              "      <td>American Airlines</td>\n",
              "      <td>15.0</td>\n",
              "    </tr>\n",
              "    <tr>\n",
              "      <th>9</th>\n",
              "      <td>DL5678</td>\n",
              "      <td>2023-09-04</td>\n",
              "      <td>12:30:00</td>\n",
              "      <td>2023-09-04</td>\n",
              "      <td>14:40:00</td>\n",
              "      <td>Delta</td>\n",
              "      <td>25.0</td>\n",
              "    </tr>\n",
              "    <tr>\n",
              "      <th>10</th>\n",
              "      <td>UA9101</td>\n",
              "      <td>2023-09-04</td>\n",
              "      <td>19:00:00</td>\n",
              "      <td>2023-09-04</td>\n",
              "      <td>21:15:00</td>\n",
              "      <td>United Airlines</td>\n",
              "      <td>45.0</td>\n",
              "    </tr>\n",
              "  </tbody>\n",
              "</table>\n",
              "</div>\n",
              "    <div class=\"colab-df-buttons\">\n",
              "\n",
              "  <div class=\"colab-df-container\">\n",
              "    <button class=\"colab-df-convert\" onclick=\"convertToInteractive('df-266ea079-bf6b-41c4-bc69-b55d3969a449')\"\n",
              "            title=\"Convert this dataframe to an interactive table.\"\n",
              "            style=\"display:none;\">\n",
              "\n",
              "  <svg xmlns=\"http://www.w3.org/2000/svg\" height=\"24px\" viewBox=\"0 -960 960 960\">\n",
              "    <path d=\"M120-120v-720h720v720H120Zm60-500h600v-160H180v160Zm220 220h160v-160H400v160Zm0 220h160v-160H400v160ZM180-400h160v-160H180v160Zm440 0h160v-160H620v160ZM180-180h160v-160H180v160Zm440 0h160v-160H620v160Z\"/>\n",
              "  </svg>\n",
              "    </button>\n",
              "\n",
              "  <style>\n",
              "    .colab-df-container {\n",
              "      display:flex;\n",
              "      gap: 12px;\n",
              "    }\n",
              "\n",
              "    .colab-df-convert {\n",
              "      background-color: #E8F0FE;\n",
              "      border: none;\n",
              "      border-radius: 50%;\n",
              "      cursor: pointer;\n",
              "      display: none;\n",
              "      fill: #1967D2;\n",
              "      height: 32px;\n",
              "      padding: 0 0 0 0;\n",
              "      width: 32px;\n",
              "    }\n",
              "\n",
              "    .colab-df-convert:hover {\n",
              "      background-color: #E2EBFA;\n",
              "      box-shadow: 0px 1px 2px rgba(60, 64, 67, 0.3), 0px 1px 3px 1px rgba(60, 64, 67, 0.15);\n",
              "      fill: #174EA6;\n",
              "    }\n",
              "\n",
              "    .colab-df-buttons div {\n",
              "      margin-bottom: 4px;\n",
              "    }\n",
              "\n",
              "    [theme=dark] .colab-df-convert {\n",
              "      background-color: #3B4455;\n",
              "      fill: #D2E3FC;\n",
              "    }\n",
              "\n",
              "    [theme=dark] .colab-df-convert:hover {\n",
              "      background-color: #434B5C;\n",
              "      box-shadow: 0px 1px 3px 1px rgba(0, 0, 0, 0.15);\n",
              "      filter: drop-shadow(0px 1px 2px rgba(0, 0, 0, 0.3));\n",
              "      fill: #FFFFFF;\n",
              "    }\n",
              "  </style>\n",
              "\n",
              "    <script>\n",
              "      const buttonEl =\n",
              "        document.querySelector('#df-266ea079-bf6b-41c4-bc69-b55d3969a449 button.colab-df-convert');\n",
              "      buttonEl.style.display =\n",
              "        google.colab.kernel.accessAllowed ? 'block' : 'none';\n",
              "\n",
              "      async function convertToInteractive(key) {\n",
              "        const element = document.querySelector('#df-266ea079-bf6b-41c4-bc69-b55d3969a449');\n",
              "        const dataTable =\n",
              "          await google.colab.kernel.invokeFunction('convertToInteractive',\n",
              "                                                    [key], {});\n",
              "        if (!dataTable) return;\n",
              "\n",
              "        const docLinkHtml = 'Like what you see? Visit the ' +\n",
              "          '<a target=\"_blank\" href=https://colab.research.google.com/notebooks/data_table.ipynb>data table notebook</a>'\n",
              "          + ' to learn more about interactive tables.';\n",
              "        element.innerHTML = '';\n",
              "        dataTable['output_type'] = 'display_data';\n",
              "        await google.colab.output.renderOutput(dataTable, element);\n",
              "        const docLink = document.createElement('div');\n",
              "        docLink.innerHTML = docLinkHtml;\n",
              "        element.appendChild(docLink);\n",
              "      }\n",
              "    </script>\n",
              "  </div>\n",
              "\n",
              "\n",
              "<div id=\"df-ffaa7034-089a-469f-9cf5-6b49f6eaeded\">\n",
              "  <button class=\"colab-df-quickchart\" onclick=\"quickchart('df-ffaa7034-089a-469f-9cf5-6b49f6eaeded')\"\n",
              "            title=\"Suggest charts\"\n",
              "            style=\"display:none;\">\n",
              "\n",
              "<svg xmlns=\"http://www.w3.org/2000/svg\" height=\"24px\"viewBox=\"0 0 24 24\"\n",
              "     width=\"24px\">\n",
              "    <g>\n",
              "        <path d=\"M19 3H5c-1.1 0-2 .9-2 2v14c0 1.1.9 2 2 2h14c1.1 0 2-.9 2-2V5c0-1.1-.9-2-2-2zM9 17H7v-7h2v7zm4 0h-2V7h2v10zm4 0h-2v-4h2v4z\"/>\n",
              "    </g>\n",
              "</svg>\n",
              "  </button>\n",
              "\n",
              "<style>\n",
              "  .colab-df-quickchart {\n",
              "      --bg-color: #E8F0FE;\n",
              "      --fill-color: #1967D2;\n",
              "      --hover-bg-color: #E2EBFA;\n",
              "      --hover-fill-color: #174EA6;\n",
              "      --disabled-fill-color: #AAA;\n",
              "      --disabled-bg-color: #DDD;\n",
              "  }\n",
              "\n",
              "  [theme=dark] .colab-df-quickchart {\n",
              "      --bg-color: #3B4455;\n",
              "      --fill-color: #D2E3FC;\n",
              "      --hover-bg-color: #434B5C;\n",
              "      --hover-fill-color: #FFFFFF;\n",
              "      --disabled-bg-color: #3B4455;\n",
              "      --disabled-fill-color: #666;\n",
              "  }\n",
              "\n",
              "  .colab-df-quickchart {\n",
              "    background-color: var(--bg-color);\n",
              "    border: none;\n",
              "    border-radius: 50%;\n",
              "    cursor: pointer;\n",
              "    display: none;\n",
              "    fill: var(--fill-color);\n",
              "    height: 32px;\n",
              "    padding: 0;\n",
              "    width: 32px;\n",
              "  }\n",
              "\n",
              "  .colab-df-quickchart:hover {\n",
              "    background-color: var(--hover-bg-color);\n",
              "    box-shadow: 0 1px 2px rgba(60, 64, 67, 0.3), 0 1px 3px 1px rgba(60, 64, 67, 0.15);\n",
              "    fill: var(--button-hover-fill-color);\n",
              "  }\n",
              "\n",
              "  .colab-df-quickchart-complete:disabled,\n",
              "  .colab-df-quickchart-complete:disabled:hover {\n",
              "    background-color: var(--disabled-bg-color);\n",
              "    fill: var(--disabled-fill-color);\n",
              "    box-shadow: none;\n",
              "  }\n",
              "\n",
              "  .colab-df-spinner {\n",
              "    border: 2px solid var(--fill-color);\n",
              "    border-color: transparent;\n",
              "    border-bottom-color: var(--fill-color);\n",
              "    animation:\n",
              "      spin 1s steps(1) infinite;\n",
              "  }\n",
              "\n",
              "  @keyframes spin {\n",
              "    0% {\n",
              "      border-color: transparent;\n",
              "      border-bottom-color: var(--fill-color);\n",
              "      border-left-color: var(--fill-color);\n",
              "    }\n",
              "    20% {\n",
              "      border-color: transparent;\n",
              "      border-left-color: var(--fill-color);\n",
              "      border-top-color: var(--fill-color);\n",
              "    }\n",
              "    30% {\n",
              "      border-color: transparent;\n",
              "      border-left-color: var(--fill-color);\n",
              "      border-top-color: var(--fill-color);\n",
              "      border-right-color: var(--fill-color);\n",
              "    }\n",
              "    40% {\n",
              "      border-color: transparent;\n",
              "      border-right-color: var(--fill-color);\n",
              "      border-top-color: var(--fill-color);\n",
              "    }\n",
              "    60% {\n",
              "      border-color: transparent;\n",
              "      border-right-color: var(--fill-color);\n",
              "    }\n",
              "    80% {\n",
              "      border-color: transparent;\n",
              "      border-right-color: var(--fill-color);\n",
              "      border-bottom-color: var(--fill-color);\n",
              "    }\n",
              "    90% {\n",
              "      border-color: transparent;\n",
              "      border-bottom-color: var(--fill-color);\n",
              "    }\n",
              "  }\n",
              "</style>\n",
              "\n",
              "  <script>\n",
              "    async function quickchart(key) {\n",
              "      const quickchartButtonEl =\n",
              "        document.querySelector('#' + key + ' button');\n",
              "      quickchartButtonEl.disabled = true;  // To prevent multiple clicks.\n",
              "      quickchartButtonEl.classList.add('colab-df-spinner');\n",
              "      try {\n",
              "        const charts = await google.colab.kernel.invokeFunction(\n",
              "            'suggestCharts', [key], {});\n",
              "      } catch (error) {\n",
              "        console.error('Error during call to suggestCharts:', error);\n",
              "      }\n",
              "      quickchartButtonEl.classList.remove('colab-df-spinner');\n",
              "      quickchartButtonEl.classList.add('colab-df-quickchart-complete');\n",
              "    }\n",
              "    (() => {\n",
              "      let quickchartButtonEl =\n",
              "        document.querySelector('#df-ffaa7034-089a-469f-9cf5-6b49f6eaeded button');\n",
              "      quickchartButtonEl.style.display =\n",
              "        google.colab.kernel.accessAllowed ? 'block' : 'none';\n",
              "    })();\n",
              "  </script>\n",
              "</div>\n",
              "\n",
              "  <div id=\"id_5a48e0ba-aefe-488b-b7f6-08502a92f914\">\n",
              "    <style>\n",
              "      .colab-df-generate {\n",
              "        background-color: #E8F0FE;\n",
              "        border: none;\n",
              "        border-radius: 50%;\n",
              "        cursor: pointer;\n",
              "        display: none;\n",
              "        fill: #1967D2;\n",
              "        height: 32px;\n",
              "        padding: 0 0 0 0;\n",
              "        width: 32px;\n",
              "      }\n",
              "\n",
              "      .colab-df-generate:hover {\n",
              "        background-color: #E2EBFA;\n",
              "        box-shadow: 0px 1px 2px rgba(60, 64, 67, 0.3), 0px 1px 3px 1px rgba(60, 64, 67, 0.15);\n",
              "        fill: #174EA6;\n",
              "      }\n",
              "\n",
              "      [theme=dark] .colab-df-generate {\n",
              "        background-color: #3B4455;\n",
              "        fill: #D2E3FC;\n",
              "      }\n",
              "\n",
              "      [theme=dark] .colab-df-generate:hover {\n",
              "        background-color: #434B5C;\n",
              "        box-shadow: 0px 1px 3px 1px rgba(0, 0, 0, 0.15);\n",
              "        filter: drop-shadow(0px 1px 2px rgba(0, 0, 0, 0.3));\n",
              "        fill: #FFFFFF;\n",
              "      }\n",
              "    </style>\n",
              "    <button class=\"colab-df-generate\" onclick=\"generateWithVariable('df')\"\n",
              "            title=\"Generate code using this dataframe.\"\n",
              "            style=\"display:none;\">\n",
              "\n",
              "  <svg xmlns=\"http://www.w3.org/2000/svg\" height=\"24px\"viewBox=\"0 0 24 24\"\n",
              "       width=\"24px\">\n",
              "    <path d=\"M7,19H8.4L18.45,9,17,7.55,7,17.6ZM5,21V16.75L18.45,3.32a2,2,0,0,1,2.83,0l1.4,1.43a1.91,1.91,0,0,1,.58,1.4,1.91,1.91,0,0,1-.58,1.4L9.25,21ZM18.45,9,17,7.55Zm-12,3A5.31,5.31,0,0,0,4.9,8.1,5.31,5.31,0,0,0,1,6.5,5.31,5.31,0,0,0,4.9,4.9,5.31,5.31,0,0,0,6.5,1,5.31,5.31,0,0,0,8.1,4.9,5.31,5.31,0,0,0,12,6.5,5.46,5.46,0,0,0,6.5,12Z\"/>\n",
              "  </svg>\n",
              "    </button>\n",
              "    <script>\n",
              "      (() => {\n",
              "      const buttonEl =\n",
              "        document.querySelector('#id_5a48e0ba-aefe-488b-b7f6-08502a92f914 button.colab-df-generate');\n",
              "      buttonEl.style.display =\n",
              "        google.colab.kernel.accessAllowed ? 'block' : 'none';\n",
              "\n",
              "      buttonEl.onclick = () => {\n",
              "        google.colab.notebook.generateWithVariable('df');\n",
              "      }\n",
              "      })();\n",
              "    </script>\n",
              "  </div>\n",
              "\n",
              "    </div>\n",
              "  </div>\n"
            ],
            "application/vnd.google.colaboratory.intrinsic+json": {
              "type": "dataframe",
              "variable_name": "df",
              "summary": "{\n  \"name\": \"df\",\n  \"rows\": 11,\n  \"fields\": [\n    {\n      \"column\": \"FlightNumber\",\n      \"properties\": {\n        \"dtype\": \"category\",\n        \"num_unique_values\": 3,\n        \"samples\": [\n          \"AA1234\",\n          \"DL5678\",\n          \"UA9101\"\n        ],\n        \"semantic_type\": \"\",\n        \"description\": \"\"\n      }\n    },\n    {\n      \"column\": \"DepartureDate\",\n      \"properties\": {\n        \"dtype\": \"date\",\n        \"min\": \"2023-09-01 00:00:00\",\n        \"max\": \"2023-09-04 00:00:00\",\n        \"num_unique_values\": 4,\n        \"samples\": [\n          \"2023-09-02 00:00:00\",\n          \"2023-09-04 00:00:00\",\n          \"2023-09-01 00:00:00\"\n        ],\n        \"semantic_type\": \"\",\n        \"description\": \"\"\n      }\n    },\n    {\n      \"column\": \"DepartureTime\",\n      \"properties\": {\n        \"dtype\": \"string\",\n        \"num_unique_values\": 9,\n        \"samples\": [\n          \"12:30:00\",\n          \"13:15:00\",\n          \"13:00:00\"\n        ],\n        \"semantic_type\": \"\",\n        \"description\": \"\"\n      }\n    },\n    {\n      \"column\": \"ArrivalDate\",\n      \"properties\": {\n        \"dtype\": \"date\",\n        \"min\": \"2023-09-01 00:00:00\",\n        \"max\": \"2023-09-04 00:00:00\",\n        \"num_unique_values\": 4,\n        \"samples\": [\n          \"2023-09-02 00:00:00\",\n          \"2023-09-04 00:00:00\",\n          \"2023-09-01 00:00:00\"\n        ],\n        \"semantic_type\": \"\",\n        \"description\": \"\"\n      }\n    },\n    {\n      \"column\": \"ArrivalTime\",\n      \"properties\": {\n        \"dtype\": \"string\",\n        \"num_unique_values\": 8,\n        \"samples\": [\n          \"15:30:00\",\n          \"10:00:00\",\n          \"10:45:00\"\n        ],\n        \"semantic_type\": \"\",\n        \"description\": \"\"\n      }\n    },\n    {\n      \"column\": \"Airline\",\n      \"properties\": {\n        \"dtype\": \"category\",\n        \"num_unique_values\": 3,\n        \"samples\": [\n          \"American Airlines\",\n          \"Delta\",\n          \"United Airlines\"\n        ],\n        \"semantic_type\": \"\",\n        \"description\": \"\"\n      }\n    },\n    {\n      \"column\": \"DelayMinutes\",\n      \"properties\": {\n        \"dtype\": \"number\",\n        \"std\": 15.72490786213793,\n        \"min\": 5.0,\n        \"max\": 60.0,\n        \"num_unique_values\": 7,\n        \"samples\": [\n          15.0,\n          5.0,\n          10.0\n        ],\n        \"semantic_type\": \"\",\n        \"description\": \"\"\n      }\n    }\n  ]\n}"
            }
          },
          "metadata": {},
          "execution_count": 16
        }
      ]
    },
    {
      "cell_type": "code",
      "source": [
        "# Combine date and time into datetime\n",
        "df['DepartureDateTime'] = df['DepartureDate'].astype(str) + ' ' + df['DepartureTime'].astype(str)\n",
        "df['ArrivalDateTime'] = df['ArrivalDate'].astype(str) + ' ' + df['ArrivalTime'].astype(str)\n",
        "\n",
        "\n",
        "# Converting new columns to datetime dtype\n",
        "df['DepartureDateTime'] = pd.to_datetime(df['DepartureDateTime'])\n",
        "df['ArrivalDateTime'] = pd.to_datetime(df['ArrivalDateTime'])\n",
        "\n",
        "#Calculating flight duration in minutes\n",
        "\n",
        "df['FlightDuration'] = (df['ArrivalDateTime'] - df['DepartureDateTime']).dt.total_seconds() / 60\n",
        "\n",
        "\n",
        "# dropping intermediate newly created columns\n",
        "df = df.drop(columns=['DepartureDateTime','ArrivalDateTime'])\n",
        "print(df)\n"
      ],
      "metadata": {
        "colab": {
          "base_uri": "https://localhost:8080/"
        },
        "id": "r8wOMXzPY3JD",
        "outputId": "b4ccbbd2-3ee1-49f5-f2eb-23b7301d0663"
      },
      "execution_count": 17,
      "outputs": [
        {
          "output_type": "stream",
          "name": "stdout",
          "text": [
            "   FlightNumber DepartureDate DepartureTime ArrivalDate ArrivalTime  \\\n",
            "0        AA1234    2023-09-01      08:30:00  2023-09-01    10:45:00   \n",
            "1        DL5678    2023-09-01      13:15:00  2023-09-01    15:30:00   \n",
            "2        UA9101    2023-09-01      17:00:00  2023-09-01    19:15:00   \n",
            "3        DL5678    2023-09-02      14:00:00  2023-09-02    16:10:00   \n",
            "4        UA9101    2023-09-02      17:00:00  2023-09-02    19:15:00   \n",
            "5        AA1234    2023-09-02      20:30:00  2023-09-03    10:45:00   \n",
            "6        DL5678    2023-09-03      13:00:00  2023-09-03    15:30:00   \n",
            "7        UA9101    2023-09-03      15:00:00  2023-09-03    17:20:00   \n",
            "8        AA1234    2023-09-03      08:30:00  2023-09-03    10:00:00   \n",
            "9        DL5678    2023-09-04      12:30:00  2023-09-04    14:40:00   \n",
            "10       UA9101    2023-09-04      19:00:00  2023-09-04    21:15:00   \n",
            "\n",
            "              Airline  DelayMinutes  FlightDuration  \n",
            "0   American Airlines          15.0           135.0  \n",
            "1               Delta           5.0           135.0  \n",
            "2     United Airlines          25.0           135.0  \n",
            "3               Delta          25.0           130.0  \n",
            "4     United Airlines          20.0           135.0  \n",
            "5   American Airlines          60.0           855.0  \n",
            "6               Delta          10.0           150.0  \n",
            "7     United Airlines          25.0           140.0  \n",
            "8   American Airlines          15.0            90.0  \n",
            "9               Delta          25.0           130.0  \n",
            "10    United Airlines          45.0           135.0  \n"
          ]
        }
      ]
    },
    {
      "cell_type": "code",
      "source": [
        "df.info()"
      ],
      "metadata": {
        "colab": {
          "base_uri": "https://localhost:8080/"
        },
        "id": "OxfAwGBMcyJL",
        "outputId": "884ec2f5-8d9d-47be-e704-08e56395a9f4"
      },
      "execution_count": 49,
      "outputs": [
        {
          "output_type": "stream",
          "name": "stdout",
          "text": [
            "<class 'pandas.core.frame.DataFrame'>\n",
            "RangeIndex: 11 entries, 0 to 10\n",
            "Data columns (total 9 columns):\n",
            " #   Column          Non-Null Count  Dtype         \n",
            "---  ------          --------------  -----         \n",
            " 0   FlightNumber    11 non-null     object        \n",
            " 1   DepartureDate   11 non-null     datetime64[ns]\n",
            " 2   DepartureTime   11 non-null     object        \n",
            " 3   ArrivalDate     11 non-null     datetime64[ns]\n",
            " 4   ArrivalTime     11 non-null     object        \n",
            " 5   Airline         11 non-null     object        \n",
            " 6   DelayMinutes    11 non-null     float64       \n",
            " 7   FlightDuration  11 non-null     float64       \n",
            " 8   DepartureHour   11 non-null     int32         \n",
            "dtypes: datetime64[ns](2), float64(2), int32(1), object(4)\n",
            "memory usage: 876.0+ bytes\n"
          ]
        }
      ]
    },
    {
      "cell_type": "code",
      "source": [
        "# Saving the cleaned and normalized csv file\n",
        "\n",
        "\n",
        "df.to_csv('cleaned_normalized_data.csv', index=False)\n"
      ],
      "metadata": {
        "id": "t07nytuLLaKo"
      },
      "execution_count": 51,
      "outputs": []
    },
    {
      "cell_type": "markdown",
      "source": [
        "### Storing the cleaned data into the database"
      ],
      "metadata": {
        "id": "LRVmnEBEh6xg"
      }
    },
    {
      "cell_type": "code",
      "source": [
        "\n",
        "# Connect to the SQLite database\n",
        "conn = sqlite3.connect('aviation.db')\n",
        "cursor = conn.cursor()\n"
      ],
      "metadata": {
        "id": "PHZjFHnzeIge"
      },
      "execution_count": 56,
      "outputs": []
    },
    {
      "cell_type": "code",
      "source": [
        "# Define the schema\n",
        "create_table_query = '''\n",
        "CREATE TABLE IF NOT EXISTS flights (\n",
        "    id INTEGER PRIMARY KEY AUTOINCREMENT,\n",
        "    flight_number TEXT,\n",
        "    departure_date DATE,\n",
        "    departure_time TEXT,\n",
        "    arrival_date DATE,\n",
        "    arrival_time TEXT,\n",
        "    airline TEXT,\n",
        "    delay_minutes REAL,\n",
        "    flight_duration REAL\n",
        ");\n",
        "'''\n",
        "\n",
        "# Execute the query to create the table\n",
        "cursor.execute(create_table_query)\n"
      ],
      "metadata": {
        "colab": {
          "base_uri": "https://localhost:8080/"
        },
        "id": "oyNCSBT0eP8Y",
        "outputId": "b391f7aa-0981-40de-8c34-fdef3ddc2ee9"
      },
      "execution_count": 57,
      "outputs": [
        {
          "output_type": "execute_result",
          "data": {
            "text/plain": [
              "<sqlite3.Cursor at 0x785b2c3f3340>"
            ]
          },
          "metadata": {},
          "execution_count": 57
        }
      ]
    },
    {
      "cell_type": "code",
      "source": [
        "# Convert data types for SQLite compatibility\n",
        "\n",
        "df['DepartureDate'] = pd.to_datetime(df['DepartureDate']).dt.strftime('%Y-%m-%d')\n",
        "df['DepartureTime'] = pd.to_datetime(df['DepartureTime'], format='%H:%M:%S', errors='coerce').dt.strftime('%H:%M:%S')\n",
        "df['ArrivalDate'] = pd.to_datetime(df['ArrivalDate']).dt.strftime('%Y-%m-%d')\n",
        "df['ArrivalTime'] = pd.to_datetime(df['ArrivalTime'], format='%H:%M:%S', errors='coerce').dt.strftime('%H:%M:%S')\n",
        "df['DelayMinutes'] = df['DelayMinutes'].astype(float)\n",
        "df['FlightDuration'] = df['FlightDuration'].astype(float)\n"
      ],
      "metadata": {
        "id": "fxI7u9Flf1TH"
      },
      "execution_count": 63,
      "outputs": []
    },
    {
      "cell_type": "code",
      "source": [
        "# Insert data into the database\n",
        "insert_query = '''\n",
        "INSERT INTO flights (flight_number, departure_date, departure_time, arrival_date, arrival_time, airline, delay_minutes, flight_duration)\n",
        "VALUES (?, ?, ?, ?, ?, ?, ?, ?)\n",
        "'''\n",
        "\n",
        "for _, row in df.iterrows():\n",
        "    try:\n",
        "        cursor.execute(insert_query, (\n",
        "            row['FlightNumber'],\n",
        "            row['DepartureDate'],\n",
        "            row['DepartureTime'],\n",
        "            row['ArrivalDate'],\n",
        "            row['ArrivalTime'],\n",
        "            row['Airline'],\n",
        "            row['DelayMinutes'],\n",
        "            row['FlightDuration']\n",
        "        ))\n",
        "    except Exception as e:\n",
        "        print(f\"Error inserting row: {e}\")\n",
        "        print(row)\n",
        "\n",
        "# Commit and close\n",
        "conn.commit()\n",
        "conn.close()"
      ],
      "metadata": {
        "id": "lulmoWPEedNF"
      },
      "execution_count": 64,
      "outputs": []
    },
    {
      "cell_type": "markdown",
      "source": [
        "## Viewing the data in the database"
      ],
      "metadata": {
        "id": "VQugXuwliHH4"
      }
    },
    {
      "cell_type": "code",
      "source": [
        "conn = sqlite3.connect('aviation.db')\n",
        "\n",
        "cursor = conn.cursor()\n",
        "\n",
        "# Query data\n",
        "cursor.execute('SELECT * FROM flights')\n",
        "rows = cursor.fetchall()\n",
        "\n",
        "# Print data\n",
        "for row in rows:\n",
        "    print(row)\n",
        "\n",
        "# Close connection\n",
        "conn.close()\n",
        "\n"
      ],
      "metadata": {
        "colab": {
          "base_uri": "https://localhost:8080/"
        },
        "id": "2vDjSZ63gzrI",
        "outputId": "5f25a894-59cf-4f21-9f09-fa8e7bb7e30b"
      },
      "execution_count": 67,
      "outputs": [
        {
          "output_type": "stream",
          "name": "stdout",
          "text": [
            "(1, 'AA1234', '2023-09-01', '08:30:00', '2023-09-01', '10:45:00', 'American Airlines', 15.0, 135.0)\n",
            "(2, 'DL5678', '2023-09-01', '13:15:00', '2023-09-01', '15:30:00', 'Delta', 5.0, 135.0)\n",
            "(3, 'UA9101', '2023-09-01', '17:00:00', '2023-09-01', '19:15:00', 'United Airlines', 25.0, 135.0)\n",
            "(4, 'DL5678', '2023-09-02', '14:00:00', '2023-09-02', '16:10:00', 'Delta', 25.0, 130.0)\n",
            "(5, 'UA9101', '2023-09-02', '17:00:00', '2023-09-02', '19:15:00', 'United Airlines', 20.0, 135.0)\n",
            "(6, 'AA1234', '2023-09-02', '20:30:00', '2023-09-03', '10:45:00', 'American Airlines', 60.0, 855.0)\n",
            "(7, 'DL5678', '2023-09-03', '13:00:00', '2023-09-03', '15:30:00', 'Delta', 10.0, 150.0)\n",
            "(8, 'UA9101', '2023-09-03', '15:00:00', '2023-09-03', '17:20:00', 'United Airlines', 25.0, 140.0)\n",
            "(9, 'AA1234', '2023-09-03', '08:30:00', '2023-09-03', '10:00:00', 'American Airlines', 15.0, 90.0)\n",
            "(10, 'DL5678', '2023-09-04', '12:30:00', '2023-09-04', '14:40:00', 'Delta', 25.0, 130.0)\n",
            "(11, 'UA9101', '2023-09-04', '19:00:00', '2023-09-04', '21:15:00', 'United Airlines', 45.0, 135.0)\n"
          ]
        }
      ]
    },
    {
      "cell_type": "markdown",
      "source": [
        "# Exploratory Data Analysis"
      ],
      "metadata": {
        "id": "APxOn71C13o2"
      }
    },
    {
      "cell_type": "code",
      "source": [
        "df.columns"
      ],
      "metadata": {
        "colab": {
          "base_uri": "https://localhost:8080/"
        },
        "id": "kq6pUVe81-ae",
        "outputId": "109dacdd-87aa-4661-9058-9f34d07cbcdb"
      },
      "execution_count": 20,
      "outputs": [
        {
          "output_type": "execute_result",
          "data": {
            "text/plain": [
              "Index(['FlightNumber', 'DepartureDate', 'DepartureTime', 'ArrivalDate',\n",
              "       'ArrivalTime', 'Airline', 'DelayMinutes', 'FlightDuration'],\n",
              "      dtype='object')"
            ]
          },
          "metadata": {},
          "execution_count": 20
        }
      ]
    },
    {
      "cell_type": "markdown",
      "source": [
        "### Distribution of delays"
      ],
      "metadata": {
        "id": "IkogVf1xEvVr"
      }
    },
    {
      "cell_type": "code",
      "source": [
        "# Summary statistics for DelayMinutes\n",
        "\n",
        "delay_stats = df['DelayMinutes'].describe()\n",
        "delay_stats\n"
      ],
      "metadata": {
        "colab": {
          "base_uri": "https://localhost:8080/"
        },
        "id": "AlHVuC1Q3YOE",
        "outputId": "a3dd2781-172a-4f7e-df34-f7ede500a1c8"
      },
      "execution_count": 21,
      "outputs": [
        {
          "output_type": "stream",
          "name": "stdout",
          "text": [
            "count    11.000000\n",
            "mean     24.545455\n",
            "std      15.724908\n",
            "min       5.000000\n",
            "25%      15.000000\n",
            "50%      25.000000\n",
            "75%      25.000000\n",
            "max      60.000000\n",
            "Name: DelayMinutes, dtype: float64\n"
          ]
        }
      ]
    },
    {
      "cell_type": "markdown",
      "source": [
        "\n",
        "\n",
        "> *From the above table, we can infer that 50 % to 75% of the delay duration lies within 25 minutes.*\n",
        "\n"
      ],
      "metadata": {
        "id": "98c4oU1U_Zre"
      }
    },
    {
      "cell_type": "code",
      "source": [
        "\n",
        "# Plot a histogram for delay minutes\n",
        "plt.figure(figsize=(10, 6))\n",
        "\n",
        "sns.histplot(df['DelayMinutes'], bins=10, edgecolor='black', kde = True)\n",
        "plt.title('Distribution of Flight Delays')\n",
        "plt.xlabel('Delay (Minutes)')\n",
        "plt.ylabel('Frequency')\n",
        "plt.show()\n"
      ],
      "metadata": {
        "colab": {
          "base_uri": "https://localhost:8080/",
          "height": 564
        },
        "id": "_Rf2x7QV3osA",
        "outputId": "83907745-8e33-4fae-d8ea-a9cb17a0722d"
      },
      "execution_count": 24,
      "outputs": [
        {
          "output_type": "display_data",
          "data": {
            "text/plain": [
              "<Figure size 1000x600 with 1 Axes>"
            ],
            "image/png": "[encoded data removed]"
          },
          "metadata": {}
        }
      ]
    },
    {
      "cell_type": "markdown",
      "source": [
        "\n",
        "\n",
        "> *From the above histogram, we can see that most of the delay duration lies between 15 to 25 minutes.*\n",
        "\n"
      ],
      "metadata": {
        "id": "CIkqxuPnCUBA"
      }
    },
    {
      "cell_type": "code",
      "source": [
        "# Box plot for DelayMinutes\n",
        "plt.figure(figsize=(6, 4))\n",
        "plt.boxplot(df['DelayMinutes'].dropna(), vert=True)\n",
        "plt.title('Box Plot of Flight Delays')\n",
        "plt.ylabel('Delay (Minutes)')\n",
        "plt.show()\n"
      ],
      "metadata": {
        "colab": {
          "base_uri": "https://localhost:8080/",
          "height": 391
        },
        "id": "UsEOYTwd5-gr",
        "outputId": "db4e332f-2515-42c6-b968-e474b142f843"
      },
      "execution_count": 36,
      "outputs": [
        {
          "output_type": "display_data",
          "data": {
            "text/plain": [
              "<Figure size 600x400 with 1 Axes>"
            ],
            "image/png": "[encoded data removed]"
          },
          "metadata": {}
        }
      ]
    },
    {
      "cell_type": "markdown",
      "source": [
        "\n",
        "\n",
        "> *From the above box plot, we can see that there are 2 outliers.\n",
        "Using sql queries, it was identified to be flight no. UA9101  and AA1234.*\n",
        "\n",
        "```\n",
        "# select FlightNumber from aviation where DelayMinutes between 40 and 60\n",
        "```\n",
        "\n",
        "***\n",
        "\n"
      ],
      "metadata": {
        "id": "H2KnhLa-C1y2"
      }
    },
    {
      "cell_type": "markdown",
      "source": [
        "### Average delay by Airlines"
      ],
      "metadata": {
        "id": "xANDMbWfE7a8"
      }
    },
    {
      "cell_type": "code",
      "source": [
        "# Average delay by airline\n",
        "airline_delay = df.groupby('Airline')['DelayMinutes'].mean().sort_values(ascending=False)\n",
        "airline_delay\n"
      ],
      "metadata": {
        "colab": {
          "base_uri": "https://localhost:8080/"
        },
        "id": "GRfRLudv5-J8",
        "outputId": "9310ae97-0d14-4b3d-8d82-dbd82aa71ae5"
      },
      "execution_count": 26,
      "outputs": [
        {
          "output_type": "stream",
          "name": "stdout",
          "text": [
            "Airline\n",
            "American Airlines    30.00\n",
            "United Airlines      28.75\n",
            "Delta                16.25\n",
            "Name: DelayMinutes, dtype: float64\n"
          ]
        }
      ]
    },
    {
      "cell_type": "code",
      "source": [
        "\n",
        "# Define a list of colors (you can modify the colors as needed)\n",
        "colors = plt.cm.Paired(np.arange(len(airline_delay)))\n",
        "\n",
        "# Plot the bar chart\n",
        "plt.figure(figsize=(8, 5))\n",
        "bars = plt.bar(airline_delay.index, airline_delay.values, color=colors, edgecolor='black')\n",
        "\n",
        "# Add annotations on top of the bars\n",
        "for bar in bars:\n",
        "    yval = bar.get_height()\n",
        "    plt.text(bar.get_x() + bar.get_width()/2, yval, f'{yval:.1f}', ha='center', va='bottom')\n",
        "\n",
        "# Customize the plot\n",
        "plt.title('Average Flight Delay by Airline')\n",
        "plt.xlabel('Airline')\n",
        "plt.ylabel('Average Delay (Minutes)')\n",
        "plt.xticks(rotation=45, ha='right')\n",
        "plt.tight_layout()\n",
        "\n",
        "plt.show()\n",
        "\n"
      ],
      "metadata": {
        "colab": {
          "base_uri": "https://localhost:8080/",
          "height": 507
        },
        "id": "ijmFwjPj74no",
        "outputId": "2ec46589-e24d-40fb-9874-52fe95ccd27d"
      },
      "execution_count": 44,
      "outputs": [
        {
          "output_type": "display_data",
          "data": {
            "text/plain": [
              "<Figure size 800x500 with 1 Axes>"
            ],
            "image/png": "[encoded data removed]"
          },
          "metadata": {}
        }
      ]
    },
    {
      "cell_type": "markdown",
      "source": [
        "\n",
        "\n",
        "> *From the above graph, we can infer that Airline **Delta** has **least** average delay with 16.25 mins and **American Airlines** has **most** average delay with 30 minutes.*\n",
        "\n"
      ],
      "metadata": {
        "id": "AzCvD7B1Fi0T"
      }
    },
    {
      "cell_type": "code",
      "source": [
        "# Average delay by flight number\n",
        "flight_delay = df.groupby('FlightNumber')['DelayMinutes'].mean().sort_values(ascending=False)\n",
        "print(flight_delay)\n"
      ],
      "metadata": {
        "colab": {
          "base_uri": "https://localhost:8080/"
        },
        "id": "XZvSKOgn5-Gd",
        "outputId": "bed4cb2f-7e59-494b-f303-b78d280ce53c"
      },
      "execution_count": 27,
      "outputs": [
        {
          "output_type": "stream",
          "name": "stdout",
          "text": [
            "FlightNumber\n",
            "AA1234    30.00\n",
            "UA9101    28.75\n",
            "DL5678    16.25\n",
            "Name: DelayMinutes, dtype: float64\n"
          ]
        }
      ]
    },
    {
      "cell_type": "markdown",
      "source": [
        "*From the above data, we can see that FlightNumber AA1234 has most delay and DL5678 has least delay.*\n",
        "\n"
      ],
      "metadata": {
        "id": "vezH1PJhGS8W"
      }
    },
    {
      "cell_type": "markdown",
      "source": [
        "### Average delay by hour of departure\n",
        "\n",
        "\n",
        "\n"
      ],
      "metadata": {
        "id": "PaLnk3cYGqIi"
      }
    },
    {
      "cell_type": "code",
      "source": [
        "# Extract hour from DepartureTime\n",
        "df['DepartureHour'] = pd.to_datetime(df['DepartureTime'], format='%H:%M:%S').dt.hour\n",
        "\n",
        "# Analyze average delay by hour of departure\n",
        "hourly_delay = df.groupby('DepartureHour')['DelayMinutes'].mean()\n",
        "hourly_delay\n",
        "\n",
        "# Plot the average delay by hour\n",
        "plt.figure(figsize=(10, 6))\n",
        "hourly_delay.plot(kind='bar', color='orange')\n",
        "plt.title('Average Flight Delay by Departure Hour')\n",
        "plt.xlabel('Hour of Departure')\n",
        "plt.ylabel('Average Delay (Minutes)')\n",
        "plt.show()\n"
      ],
      "metadata": {
        "colab": {
          "base_uri": "https://localhost:8080/",
          "height": 568
        },
        "id": "pOt71fiA6V6X",
        "outputId": "6e64a342-c235-4069-d906-ee92e07043c2"
      },
      "execution_count": 52,
      "outputs": [
        {
          "output_type": "display_data",
          "data": {
            "text/plain": [
              "<Figure size 1000x600 with 1 Axes>"
            ],
            "image/png": "[encoded data removed]"
          },
          "metadata": {}
        }
      ]
    },
    {
      "cell_type": "markdown",
      "source": [
        "*From the above graph, we can infer that delays increases with increasing hours during the day. Flight operating in the **evening to night are delayed more** than flight operating in the daytime*\n",
        "\n",
        "\n",
        "\n"
      ],
      "metadata": {
        "id": "AZTYDCQaG8LD"
      }
    },
    {
      "cell_type": "code",
      "source": [
        "df.drop(columns='DepartureHour', inplace=True)\n",
        "df.info()\n"
      ],
      "metadata": {
        "colab": {
          "base_uri": "https://localhost:8080/"
        },
        "id": "ATJV88KtNTto",
        "outputId": "41bde1a1-e6e3-424b-9900-ed6f94c52f64"
      },
      "execution_count": 54,
      "outputs": [
        {
          "output_type": "stream",
          "name": "stdout",
          "text": [
            "<class 'pandas.core.frame.DataFrame'>\n",
            "RangeIndex: 11 entries, 0 to 10\n",
            "Data columns (total 8 columns):\n",
            " #   Column          Non-Null Count  Dtype         \n",
            "---  ------          --------------  -----         \n",
            " 0   FlightNumber    11 non-null     object        \n",
            " 1   DepartureDate   11 non-null     datetime64[ns]\n",
            " 2   DepartureTime   11 non-null     object        \n",
            " 3   ArrivalDate     11 non-null     datetime64[ns]\n",
            " 4   ArrivalTime     11 non-null     object        \n",
            " 5   Airline         11 non-null     object        \n",
            " 6   DelayMinutes    11 non-null     float64       \n",
            " 7   FlightDuration  11 non-null     float64       \n",
            "dtypes: datetime64[ns](2), float64(2), object(4)\n",
            "memory usage: 832.0+ bytes\n"
          ]
        }
      ]
    },
    {
      "cell_type": "markdown",
      "source": [
        "## Overall Analysis:\n",
        "\n",
        "*   American Airlines has most amount of delays.\n",
        "*   Delays increases during the nightime.\n",
        "\n",
        "## Suggestions:\n",
        "\n",
        "\n",
        "\n",
        "1.   American Airlines may be occuring due to technical faults. So **proper maintenance timeline should be followed**.\n",
        "2.   Delays in the nighttime can be due to insufficient light at nighttime and employees shift ending in the evening. **More sufficient lights should be employed in and around runways** and **More employees** should be made available **at nighttime**.\n",
        "\n",
        "\n",
        "\n"
      ],
      "metadata": {
        "id": "LVqZIQmmH8yR"
      }
    }
  ]
}